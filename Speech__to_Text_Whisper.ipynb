{
  "nbformat": 4,
  "nbformat_minor": 0,
  "metadata": {
    "colab": {
      "provenance": []
    },
    "kernelspec": {
      "name": "python3",
      "display_name": "Python 3"
    },
    "language_info": {
      "name": "python"
    },
    "accelerator": "GPU",
    "gpuClass": "standard"
  },
  "cells": [
    {
      "cell_type": "markdown",
      "source": [
        "# Whisper - Speech to Text\n",
        "\n",
        "---\n",
        "**Description**\n",
        "\n",
        "- <b>Whisper</b>, a single model that can perform <i>multiple speech processing tasks across different languages</i> with high accuracy and robustness\n",
        "\n",
        "- It shows how to train Whisper on 680,000 hours of web data with weak supervision from transcripts without any manual annotation or filtering.\n",
        "\n",
        "<img src =\"https://openaicom.imgix.net/d9c13138-366f-49d3-b8bd-cb3f5a973a5b/asr-summary-of-model-architecture-desktop.svg?fm=auto&auto=compress,format&fit=min&w=3840&h=3103\" width = \"600px\" height=\"400px\" > </img>\n",
        "<br>\n",
        "    Figure 1. Whisper Architecture : Radford, A. et al. (2022)\n",
        "\n",
        "<br>\n",
        "\n",
        "---\n",
        "**Reference**\n",
        "\n",
        "\\[1\\] Baevski, A., Zhou, Y., Mohamed, A., & Auli, M. (2020). wav2vec 2.0: A framework for self-supervised learning of speech representations. Advances in neural information processing systems, 33, 12449-12460.https://arxiv.org/pdf/2006.11477v3.pdf\n",
        "\n",
        "\\[2\\] Radford, A., Kim, J. W., Xu, T., Brockman, G., McLeavey, C., & Sutskever, I. (2022). Robust speech recognition via large-scale weak supervision. arXiv preprint arXiv:2212.04356.https://cdn.openai.com/papers/whisper.pdf\n",
        "\n",
        "\\[3\\]\"Whisper\", Openai, accesed 2023 05 10, https://github.com/openai/whisper.\n",
        "\n"
      ],
      "metadata": {
        "id": "qiKdIEy_PaSc"
      }
    },
    {
      "cell_type": "markdown",
      "source": [
        "**Install Library**\n",
        "\n",
        "---"
      ],
      "metadata": {
        "id": "5qMHTcKgUX0V"
      }
    },
    {
      "cell_type": "code",
      "execution_count": 2,
      "metadata": {
        "colab": {
          "base_uri": "https://localhost:8080/"
        },
        "id": "66NxREIbURHi",
        "outputId": "0abb2c08-75d5-49ab-9f7d-77ae81f91c63"
      },
      "outputs": [
        {
          "output_type": "stream",
          "name": "stdout",
          "text": [
            "Looking in indexes: https://pypi.org/simple, https://us-python.pkg.dev/colab-wheels/public/simple/\n",
            "Collecting git+https://github.com/openai/whisper.git\n",
            "  Cloning https://github.com/openai/whisper.git to /tmp/pip-req-build-gny6a_2h\n",
            "  Running command git clone --filter=blob:none --quiet https://github.com/openai/whisper.git /tmp/pip-req-build-gny6a_2h\n",
            "  Resolved https://github.com/openai/whisper.git to commit 248b6cb124225dd263bb9bd32d060b6517e067f8\n",
            "  Installing build dependencies ... \u001b[?25l\u001b[?25hdone\n",
            "  Getting requirements to build wheel ... \u001b[?25l\u001b[?25hdone\n",
            "  Preparing metadata (pyproject.toml) ... \u001b[?25l\u001b[?25hdone\n",
            "Requirement already satisfied: triton==2.0.0 in /usr/local/lib/python3.10/dist-packages (from openai-whisper==20230314) (2.0.0)\n",
            "Requirement already satisfied: numba in /usr/local/lib/python3.10/dist-packages (from openai-whisper==20230314) (0.56.4)\n",
            "Requirement already satisfied: numpy in /usr/local/lib/python3.10/dist-packages (from openai-whisper==20230314) (1.22.4)\n",
            "Requirement already satisfied: torch in /usr/local/lib/python3.10/dist-packages (from openai-whisper==20230314) (2.0.1+cu118)\n",
            "Requirement already satisfied: tqdm in /usr/local/lib/python3.10/dist-packages (from openai-whisper==20230314) (4.65.0)\n",
            "Requirement already satisfied: more-itertools in /usr/local/lib/python3.10/dist-packages (from openai-whisper==20230314) (9.1.0)\n",
            "Requirement already satisfied: tiktoken==0.3.3 in /usr/local/lib/python3.10/dist-packages (from openai-whisper==20230314) (0.3.3)\n",
            "Requirement already satisfied: regex>=2022.1.18 in /usr/local/lib/python3.10/dist-packages (from tiktoken==0.3.3->openai-whisper==20230314) (2022.10.31)\n",
            "Requirement already satisfied: requests>=2.26.0 in /usr/local/lib/python3.10/dist-packages (from tiktoken==0.3.3->openai-whisper==20230314) (2.27.1)\n",
            "Requirement already satisfied: cmake in /usr/local/lib/python3.10/dist-packages (from triton==2.0.0->openai-whisper==20230314) (3.25.2)\n",
            "Requirement already satisfied: filelock in /usr/local/lib/python3.10/dist-packages (from triton==2.0.0->openai-whisper==20230314) (3.12.0)\n",
            "Requirement already satisfied: lit in /usr/local/lib/python3.10/dist-packages (from triton==2.0.0->openai-whisper==20230314) (16.0.5)\n",
            "Requirement already satisfied: llvmlite<0.40,>=0.39.0dev0 in /usr/local/lib/python3.10/dist-packages (from numba->openai-whisper==20230314) (0.39.1)\n",
            "Requirement already satisfied: setuptools in /usr/local/lib/python3.10/dist-packages (from numba->openai-whisper==20230314) (67.7.2)\n",
            "Requirement already satisfied: typing-extensions in /usr/local/lib/python3.10/dist-packages (from torch->openai-whisper==20230314) (4.5.0)\n",
            "Requirement already satisfied: sympy in /usr/local/lib/python3.10/dist-packages (from torch->openai-whisper==20230314) (1.11.1)\n",
            "Requirement already satisfied: networkx in /usr/local/lib/python3.10/dist-packages (from torch->openai-whisper==20230314) (3.1)\n",
            "Requirement already satisfied: jinja2 in /usr/local/lib/python3.10/dist-packages (from torch->openai-whisper==20230314) (3.1.2)\n",
            "Requirement already satisfied: urllib3<1.27,>=1.21.1 in /usr/local/lib/python3.10/dist-packages (from requests>=2.26.0->tiktoken==0.3.3->openai-whisper==20230314) (1.26.15)\n",
            "Requirement already satisfied: certifi>=2017.4.17 in /usr/local/lib/python3.10/dist-packages (from requests>=2.26.0->tiktoken==0.3.3->openai-whisper==20230314) (2022.12.7)\n",
            "Requirement already satisfied: charset-normalizer~=2.0.0 in /usr/local/lib/python3.10/dist-packages (from requests>=2.26.0->tiktoken==0.3.3->openai-whisper==20230314) (2.0.12)\n",
            "Requirement already satisfied: idna<4,>=2.5 in /usr/local/lib/python3.10/dist-packages (from requests>=2.26.0->tiktoken==0.3.3->openai-whisper==20230314) (3.4)\n",
            "Requirement already satisfied: MarkupSafe>=2.0 in /usr/local/lib/python3.10/dist-packages (from jinja2->torch->openai-whisper==20230314) (2.1.2)\n",
            "Requirement already satisfied: mpmath>=0.19 in /usr/local/lib/python3.10/dist-packages (from sympy->torch->openai-whisper==20230314) (1.3.0)\n",
            "Hit:1 http://archive.ubuntu.com/ubuntu focal InRelease\n",
            "Hit:2 https://cloud.r-project.org/bin/linux/ubuntu focal-cran40/ InRelease\n",
            "Hit:3 https://developer.download.nvidia.com/compute/cuda/repos/ubuntu2004/x86_64  InRelease\n",
            "Hit:4 http://archive.ubuntu.com/ubuntu focal-updates InRelease\n",
            "Hit:5 http://archive.ubuntu.com/ubuntu focal-backports InRelease\n",
            "Hit:6 http://ppa.launchpad.net/c2d4u.team/c2d4u4.0+/ubuntu focal InRelease\n",
            "Hit:7 http://security.ubuntu.com/ubuntu focal-security InRelease\n",
            "Hit:8 http://ppa.launchpad.net/cran/libgit2/ubuntu focal InRelease\n",
            "Hit:9 http://ppa.launchpad.net/deadsnakes/ppa/ubuntu focal InRelease\n",
            "Hit:10 http://ppa.launchpad.net/graphics-drivers/ppa/ubuntu focal InRelease\n",
            "Hit:11 http://ppa.launchpad.net/ubuntugis/ppa/ubuntu focal InRelease\n",
            "Reading package lists... Done\n",
            "Building dependency tree       \n",
            "Reading state information... Done\n",
            "39 packages can be upgraded. Run 'apt list --upgradable' to see them.\n",
            "Reading package lists... Done\n",
            "Building dependency tree       \n",
            "Reading state information... Done\n",
            "ffmpeg is already the newest version (7:4.2.7-0ubuntu0.1).\n",
            "0 upgraded, 0 newly installed, 0 to remove and 39 not upgraded.\n"
          ]
        }
      ],
      "source": [
        " !pip install git+https://github.com/openai/whisper.git\n",
        " !sudo apt update && sudo apt install ffmpeg"
      ]
    },
    {
      "cell_type": "markdown",
      "source": [
        "# Upload ur recordings or media file on current directory or designated directory. \n",
        "\n",
        "> You can download file from my drive: https://drive.google.com/drive/folders/1HBzIBBgTWjxQRCVj0T5twpTOtenXKutp"
      ],
      "metadata": {
        "id": "ta4G_fwUmoMq"
      }
    },
    {
      "cell_type": "markdown",
      "source": [
        "# 5 different models : Tiny, Base, Small, Medium, Large\n",
        "- Better accuracy with larger model size"
      ],
      "metadata": {
        "id": "4BZcV2rre5ag"
      }
    },
    {
      "cell_type": "markdown",
      "source": [
        "**Speech to text in English**"
      ],
      "metadata": {
        "id": "zdwWZXMInw6V"
      }
    },
    {
      "cell_type": "code",
      "source": [
        "# Original lyrics : \"Coldplay - Yellow\"\n",
        "Yellow_Lyrics = '''\n",
        "Look at the stars\n",
        "Look how they shine for you\n",
        "And everything you do\n",
        "Yeah, they were all yellow\n",
        "I came along\n",
        "I wrote a song for you\n",
        "And all the things you do\n",
        "And it was called Yellow\n",
        "So then I took my turn\n",
        "Oh, what a thing to have done\n",
        "And it was all yellow\n",
        "Your skin, oh yeah, your skin and bones\n",
        "Turn into something beautiful\n",
        "And you know, you know I love you so\n",
        "You know I love you so\n",
        "I swam across\n",
        "I jumped across for you\n",
        "Oh, what a thing to do\n",
        "'Cause you were all yellow\n",
        "I drew a line\n",
        "I drew a line for you\n",
        "Oh, what a thing to do\n",
        "And it was all yellow\n",
        "And your skin, oh yeah, your skin and bones\n",
        "Turn into something beautiful\n",
        "And you know, for you, I'd bleed myself dry\n",
        "For you, I'd bleed myself dry\n",
        "It's true\n",
        "Look how they shine for you\n",
        "Look how they shine for you\n",
        "Look how they shine for\n",
        "Look how they shine for you\n",
        "Look how they shine for you\n",
        "Look how they shine\n",
        "Look at the stars\n",
        "Look how they shine for you\n",
        "And all the things that you do\n",
        "'''"
      ],
      "metadata": {
        "id": "JAr-L6z4rQuZ"
      },
      "execution_count": 16,
      "outputs": []
    },
    {
      "cell_type": "code",
      "source": [
        "# Tiny Model\n",
        "!whisper  \"/content/drive/MyDrive/Generative AI/Whisper - Speech to text/Coldplay_Yellow.mp3\" --model tiny"
      ],
      "metadata": {
        "colab": {
          "base_uri": "https://localhost:8080/"
        },
        "id": "VMClLaTYn8Dr",
        "outputId": "0e5137ec-0591-4eb5-d819-5aacf2d19355"
      },
      "execution_count": 15,
      "outputs": [
        {
          "output_type": "stream",
          "name": "stdout",
          "text": [
            "Detecting language using up to the first 30 seconds. Use `--language` to specify the language\n",
            "Detected language: English\n",
            "[00:00.000 --> 00:26.160]  IN\n",
            "[00:26.160 --> 00:41.160]  Look at the star, the car they shine for you\n",
            "[00:41.160 --> 00:47.160]  Everything you do\n",
            "[00:47.160 --> 00:52.160]  Yeah they were all yellow, I came along\n",
            "[00:52.160 --> 00:58.160]  I wrote a song for you\n",
            "[00:58.160 --> 01:04.160]  And all the things you did\n",
            "[01:04.160 --> 01:08.160]  And it was called Yellow\n",
            "[01:08.160 --> 01:14.160]  So then I took my looser\n",
            "[01:14.160 --> 01:20.160]  Oh, what a thing to do\n",
            "[01:21.160 --> 01:27.160]  And it was all yellow\n",
            "[01:29.160 --> 01:33.160]  Yeah, I was blue, yeah, I was blue\n",
            "[01:33.160 --> 01:37.160]  Oh, what a thing to do\n",
            "[01:37.160 --> 01:43.160]  So then I took my looser looser looser\n",
            "[01:43.160 --> 01:47.160]  Oh, what a thing to do\n",
            "[01:48.160 --> 01:51.160]  And all the things you did\n",
            "[01:51.160 --> 01:55.160]  And all the things you did\n",
            "[01:55.160 --> 02:01.160]  And all the things you did\n",
            "[02:01.160 --> 02:12.160]  And all the things you did\n",
            "[02:12.160 --> 02:19.160]  I swear on the clock, I jumped across for what did you mean?\n",
            "[02:19.160 --> 02:26.160]  Oh, what if things were to do?\n",
            "[02:26.160 --> 02:37.160]  Because you were all yellow, I drew a line, I drew a line for what did you mean?\n",
            "[02:38.160 --> 02:44.160]  Oh, what if things were to do?\n",
            "[02:44.160 --> 02:52.160]  But it was all yellow\n",
            "[02:52.160 --> 02:59.160]  You just knew, no, yeah, I still refuse to tell you\n",
            "[02:59.160 --> 03:05.160]  To something beautiful, you know\n",
            "[03:05.160 --> 03:10.160]  For you I'll be myself, try\n",
            "[03:10.160 --> 03:15.160]  For you I'll be myself, try\n",
            "[03:22.160 --> 03:44.160]  Let's do the kind of shine for you\n",
            "[03:44.160 --> 03:50.160]  The kind of shine for you\n",
            "[03:50.160 --> 04:01.160]  The kind of shine the kind of shine for you\n",
            "[04:01.160 --> 04:06.160]  The kind of shine for you\n",
            "[04:06.160 --> 04:17.160]  The kind of shine Look at the stars, the kind of shine for you\n",
            "[04:17.160 --> 04:22.160]  And all the things that you do.\n"
          ]
        }
      ]
    },
    {
      "cell_type": "code",
      "source": [
        "# Base Model\n",
        "!whisper \"/content/drive/MyDrive/Generative AI/Whisper - Speech to text/Coldplay_Yellow.mp3\" --model base"
      ],
      "metadata": {
        "colab": {
          "base_uri": "https://localhost:8080/"
        },
        "id": "hSWwQbFjn76A",
        "outputId": "3e8f0c7f-0ff0-4698-b12f-f48beac3cc57"
      },
      "execution_count": 12,
      "outputs": [
        {
          "output_type": "stream",
          "name": "stdout",
          "text": [
            "Detecting language using up to the first 30 seconds. Use `--language` to specify the language\n",
            "Detected language: English\n",
            "[00:00.000 --> 00:03.240]  To be continued ...\n",
            "[00:30.000 --> 00:40.000]  Look at the stars, look how they shine for you\n",
            "[00:40.000 --> 00:50.000]  Everything you do, yeah they were all yellow\n",
            "[00:50.000 --> 00:58.000]  I came alive, I wrote a song for you\n",
            "[00:58.000 --> 01:09.000]  And all the things you do, and it was called yellow\n",
            "[01:09.000 --> 01:20.000]  So then I took my hands and a lot of things have done\n",
            "[01:20.000 --> 01:29.000]  And it was all yellow\n",
            "[01:29.000 --> 01:34.000]  You're scaling, oh yeah you're scaling, oh\n",
            "[01:34.000 --> 01:40.000]  You're turning to something to fall\n",
            "[01:40.000 --> 01:46.000]  You know I love you so\n",
            "[01:48.000 --> 01:51.000]  You know I love you so\n",
            "[01:59.000 --> 02:21.000]  I swam across, I jumped across from the view\n",
            "[02:21.000 --> 02:29.000]  A lot of things you do, because you are all yellow\n",
            "[02:29.000 --> 02:37.000]  I drew a line, I drew a line for you\n",
            "[02:37.000 --> 02:46.000]  A lot of things you do, but it was all yellow\n",
            "[02:52.000 --> 02:57.000]  You're scaling, oh yeah you're scaling, oh\n",
            "[02:57.000 --> 03:03.000]  You're turning to something to fall\n",
            "[03:03.000 --> 03:06.000]  You know I love you so\n",
            "[03:06.000 --> 03:09.000]  You know I love you so\n",
            "[03:11.000 --> 03:14.000]  You know I love you so\n",
            "[03:21.000 --> 03:35.000]  You know I love you so\n",
            "[03:35.000 --> 03:44.000]  There's two, look how they shine for you\n",
            "[03:44.000 --> 03:49.000]  Look how they shine for you\n",
            "[03:50.000 --> 03:55.000]  Look how they shine for you\n",
            "[03:55.000 --> 04:01.000]  Look how they shine for you\n",
            "[04:01.000 --> 04:06.000]  Look how they shine for you\n",
            "[04:06.000 --> 04:09.000]  Look how they shine\n",
            "[04:09.000 --> 04:12.000]  Look at the stars\n",
            "[04:12.000 --> 04:17.000]  Look how they shine for you\n",
            "[04:17.000 --> 04:23.000]  And all the things that you do\n"
          ]
        }
      ]
    },
    {
      "cell_type": "code",
      "source": [
        "# Small Model\n",
        "!whisper \"/content/drive/MyDrive/Generative AI/Whisper - Speech to text/Coldplay_Yellow.mp3\" --model small"
      ],
      "metadata": {
        "colab": {
          "base_uri": "https://localhost:8080/"
        },
        "id": "_kuynmVYoKqd",
        "outputId": "23afbc54-bb4d-4fe4-ff44-d14878318450"
      },
      "execution_count": 18,
      "outputs": [
        {
          "output_type": "stream",
          "name": "stdout",
          "text": [
            "Detecting language using up to the first 30 seconds. Use `--language` to specify the language\n",
            "Detected language: English\n",
            "[00:00.000 --> 00:08.780]  MUSIC\n",
            "[00:08.780 --> 00:11.620]  IN Locution\n",
            "[00:11.620 --> 00:21.620]  oof\n",
            "[00:21.620 --> 00:39.620]  Look at the stars, look how they shine for you\n",
            "[00:39.620 --> 00:47.620]  And everything you do\n",
            "[00:47.620 --> 00:52.620]  Yeah, they were all yellow, I came along\n",
            "[00:52.620 --> 00:58.620]  I wrote a song for you\n",
            "[00:58.620 --> 01:04.620]  And all the things you do\n",
            "[01:04.620 --> 01:09.620]  And it was called yellow\n",
            "[01:09.620 --> 01:15.620]  So then I took my turn\n",
            "[01:15.620 --> 01:20.620]  And all the things I've done\n",
            "[01:20.620 --> 01:28.620]  And it was all yellow\n",
            "[01:28.620 --> 01:33.620]  Your skin, oh yeah, your skin\n",
            "[01:33.620 --> 01:39.620]  Oh, it's turning into something to fall\n",
            "[01:39.620 --> 01:47.620]  But you know, you know I love your soul\n",
            "[01:47.620 --> 01:50.620]  You know I love your soul\n",
            "[02:09.620 --> 02:20.620]  I swam across, I jumped across for you\n",
            "[02:20.620 --> 02:26.620]  Oh, what a thing to do\n",
            "[02:26.620 --> 02:29.620]  Cause you were all yellow\n",
            "[02:29.620 --> 02:37.620]  I drew a line, I drew a line for you\n",
            "[02:37.620 --> 02:43.620]  Oh, what a thing to do\n",
            "[02:43.620 --> 02:51.620]  But it was all yellow\n",
            "[02:51.620 --> 02:55.620]  Your skin, oh yeah, your skin\n",
            "[02:55.620 --> 03:02.620]  And bones turning into something beautiful\n",
            "[03:02.620 --> 03:10.620]  And you know, for you I bleed my self-trade\n",
            "[03:10.620 --> 03:15.620]  For you I bleed my self-trade\n",
            "[03:33.620 --> 03:43.620]  It's true, look how they shine for you\n",
            "[03:43.620 --> 03:53.620]  Look how they shine for you\n",
            "[03:54.620 --> 04:05.620]  Look how they shine for you\n",
            "[04:05.620 --> 04:08.620]  Look how they shine for you\n",
            "[04:08.620 --> 04:11.620]  Look at the stars\n",
            "[04:11.620 --> 04:16.620]  Look how they shine for you\n",
            "[04:16.620 --> 04:22.620]  And all the things that you do\n",
            "[04:23.620 --> 04:28.620]  Thanks for watching!\n"
          ]
        }
      ]
    },
    {
      "cell_type": "code",
      "source": [
        "# Medium Model\n",
        "!whisper \"/content/drive/MyDrive/Generative AI/Whisper - Speech to text/Coldplay_Yellow.mp3\" --model medium.en"
      ],
      "metadata": {
        "colab": {
          "base_uri": "https://localhost:8080/"
        },
        "id": "9H5mmtlGUf01",
        "outputId": "a29c8a56-37c4-4ea5-bad2-af6a52a6ed68"
      },
      "execution_count": 20,
      "outputs": [
        {
          "output_type": "stream",
          "name": "stdout",
          "text": [
            "[00:00.000 --> 00:07.040]  Music\n",
            "[00:30.000 --> 00:40.000]  Look at the stars, look how they shine for you\n",
            "[00:40.000 --> 00:50.000]  And everything you do, yeah they were all yellow\n",
            "[00:50.000 --> 00:58.000]  I came along, I wrote a song for you\n",
            "[00:58.000 --> 01:04.000]  And all the things you do\n",
            "[01:04.000 --> 01:09.000]  And it was called Yellow\n",
            "[01:09.000 --> 01:15.000]  So then I took my turn\n",
            "[01:15.000 --> 01:21.000]  Oh what have things I've done\n",
            "[01:21.000 --> 01:29.000]  And it was all yellow\n",
            "[01:29.000 --> 01:35.000]  Your skin, oh yeah your skin goes\n",
            "[01:35.000 --> 01:40.000]  Turning into something beautiful\n",
            "[01:40.000 --> 01:48.000]  Do you know, you know I love you so\n",
            "[01:48.000 --> 01:51.000]  You know I love you so\n",
            "[02:11.000 --> 02:20.000]  I swam across, I jumped across for you\n",
            "[02:20.000 --> 02:26.000]  Oh what a thing to do\n",
            "[02:26.000 --> 02:29.000]  Cause you were all yellow\n",
            "[02:29.000 --> 02:37.000]  I drew a line, I drew a line for you\n",
            "[02:38.000 --> 02:43.000]  Oh what a thing to do\n",
            "[02:43.000 --> 02:52.000]  And it was all yellow\n",
            "[02:52.000 --> 02:57.000]  Your skin, oh yeah your skin goes\n",
            "[02:57.000 --> 03:03.000]  Turning into something beautiful\n",
            "[03:03.000 --> 03:06.000]  Cause you were all yellow for you\n",
            "[03:06.000 --> 03:11.000]  I bleed myself dry\n",
            "[03:11.000 --> 03:15.000]  For you I bleed myself dry\n",
            "[03:34.000 --> 03:45.000]  That's true, look how they shine for you\n",
            "[03:45.000 --> 03:50.000]  Look how they shine for you\n",
            "[03:50.000 --> 03:55.000]  Look how they shine for you\n",
            "[03:55.000 --> 04:01.000]  Look how they shine for you\n",
            "[04:01.000 --> 04:06.000]  Look how they shine for you\n",
            "[04:06.000 --> 04:09.000]  Look how they shine\n",
            "[04:09.000 --> 04:12.000]  Look at the stars\n",
            "[04:12.000 --> 04:17.000]  Look how they shine for you\n",
            "[04:17.000 --> 04:23.000]  And all the things that you did\n"
          ]
        }
      ]
    },
    {
      "cell_type": "code",
      "source": [
        "# Large Model\n",
        "!whisper \"/content/drive/MyDrive/Generative AI/Whisper - Speech to text/Coldplay_Yellow.mp3\" --model large-v1"
      ],
      "metadata": {
        "colab": {
          "base_uri": "https://localhost:8080/"
        },
        "id": "qAK5-3UioPnS",
        "outputId": "eb9563f0-c094-48fe-eada-8a0387dd6fa5"
      },
      "execution_count": 10,
      "outputs": [
        {
          "output_type": "stream",
          "name": "stdout",
          "text": [
            "100%|█████████████████████████████████████| 2.87G/2.87G [01:41<00:00, 30.4MiB/s]\n",
            "Detecting language using up to the first 30 seconds. Use `--language` to specify the language\n",
            "Detected language: English\n",
            "[00:00.000 --> 00:05.980]  Don't Forget To Subscribe For More Ahio Racing Videos!\n",
            "[00:30.000 --> 00:40.000]  Look at the stars, look how they shine for you\n",
            "[00:40.000 --> 00:50.000]  And everything you do, yeah they were all yellow\n",
            "[00:50.000 --> 00:58.000]  I came along, I wrote a song for you\n",
            "[00:58.000 --> 01:09.000]  And all the things you do, it was called yellow\n",
            "[01:09.000 --> 01:21.000]  So then I took my turn, oh what a thing to have done\n",
            "[01:21.000 --> 01:29.000]  And it was all yellow\n",
            "[01:29.000 --> 01:34.000]  Your skin, oh yeah your skin and bones\n",
            "[01:34.000 --> 01:40.000]  Turn into something beautiful\n",
            "[01:40.000 --> 01:46.000]  And you know, you know I love you so\n",
            "[01:48.000 --> 01:51.000]  You know I love you so\n",
            "[01:59.000 --> 02:20.000]  I swam across, I jumped across for you\n",
            "[02:21.000 --> 02:29.000]  Oh what a thing to do, cause you were all yellow\n",
            "[02:29.000 --> 02:37.000]  I drew a line, I drew a line for you\n",
            "[02:37.000 --> 02:46.000]  Oh what a thing to do, and it was all yellow\n",
            "[02:51.000 --> 02:57.000]  Your skin, oh yeah your skin and bones\n",
            "[02:57.000 --> 03:02.000]  Turn into something beautiful\n",
            "[03:02.000 --> 03:09.000]  And you know, for you I bleed myself dry\n",
            "[03:11.000 --> 03:15.000]  For you I bleed myself dry\n",
            "[03:20.000 --> 03:35.000]  For you\n",
            "[03:35.000 --> 03:44.000]  It's true, look how they shine for you\n",
            "[03:44.000 --> 04:09.000]  Look how they shine for you\n",
            "[04:09.000 --> 04:17.000]  Look at the stars, look how they shine for you\n",
            "[04:17.000 --> 04:23.000]  And all the things that you do\n"
          ]
        }
      ]
    },
    {
      "cell_type": "markdown",
      "source": [
        "# Results:\n",
        "<img src = \"https://img1.daumcdn.net/thumb/R1280x0/?scode=mtistory2&fname=https%3A%2F%2Fblog.kakaocdn.net%2Fdn%2FdAgeQL%2FbtsiqgkZsNZ%2Fq7qYNri5TgF5Ns5dVLpd20%2Fimg.jpg\">\n"
      ],
      "metadata": {
        "id": "VUOxvIkH0Nrv"
      }
    }
  ]
}